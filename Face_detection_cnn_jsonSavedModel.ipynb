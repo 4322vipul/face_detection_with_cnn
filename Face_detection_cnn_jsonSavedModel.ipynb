{
 "cells": [
  {
   "cell_type": "markdown",
   "metadata": {},
   "source": [
    "## Importing the libraries"
   ]
  },
  {
   "cell_type": "code",
   "execution_count": null,
   "metadata": {},
   "outputs": [],
   "source": [
    "import numpy as np\n",
    "import cv2\n",
    "import sys\n",
    "from keras.models import model_from_json\n",
    "from keras.preprocessing import image\n",
    "from PIL import Image"
   ]
  },
  {
   "cell_type": "markdown",
   "metadata": {},
   "source": [
    "### Class to load the load saved cnn model which was trained and saved as json file and weight as .h5"
   ]
  },
  {
   "cell_type": "code",
   "execution_count": null,
   "metadata": {},
   "outputs": [],
   "source": [
    "def load_model():\n",
    "    json_file=open('/home/vipul/Desktop/cam_face_recog/model1.json','r')\n",
    "    loaded_model_json=json_file.read()\n",
    "    json_file.close()\n",
    "    loaded_model=model_from_json(loaded_model_json)\n",
    "    loaded_model.load_weights(\"/home/vipul/Desktop/cam_face_recog/model1.h5\")\n",
    "    return loaded_model "
   ]
  },
  {
   "cell_type": "code",
   "execution_count": null,
   "metadata": {},
   "outputs": [],
   "source": [
    "loaded_model_fr_class=load_model()\n",
    "loaded_model_fr_class.compile(optimizer='rmsprop',loss='binary_crossentropy',metrics=['accuracy'])\n",
    "#sample_img=image.load_img('/home/vipul/Desktop/cam_face_recog/pics1/test_set/v.jpg',target_size=(120,160))\n",
    "#sample_img=image.img_to_array(sample_img)\n",
    "#sample_img=np.expand_dims(sample_img,axis=0)\n",
    "#r=loaded_model_fr_class.predict(sample_img)\n",
    "#cascPath=sys.argv[1]\n",
    "#loading the open cv haar cascade for face detection\n",
    "faceCascade=cv2.CascadeClassifier('haarcascade_frontalface_default.xml')\n",
    "cap=cv2.VideoCapture(0)\n",
    "#cap.set(3,64)\n",
    "#cap.set(4,64)\n",
    "while(1):\n",
    "    #Get each frame\n",
    "    ret,frame=cap.read()\n",
    "    #Converting to gray sacle for faceCascade\n",
    "    gray = cv2.cvtColor(frame, cv2.COLOR_BGR2GRAY)\n",
    "    #Detecting multiple faces\n",
    "    faces = faceCascade.detectMultiScale(\n",
    "    gray,\n",
    "    scaleFactor=1.3,\n",
    "    minNeighbors=5)\n",
    "    #Deawing rectangle around the detected faces\n",
    "    for (x,y,w,h) in faces:\n",
    "        cv2.rectangle(frame,(x,y),(x+w,y+h),(0,0,255),2)    \n",
    "    save_img=cv2.imwrite('vipul.jpg',frame)\n",
    "    #Converting the shape to the required format for cnn\n",
    "    retrive_img=image.load_img('vipul.jpg',target_size=(120,160))\n",
    "    retrive_img=image.img_to_array(retrive_img)\n",
    "    retrive_img=np.expand_dims(retrive_img,axis=0)\n",
    "    #frame_new=image.img_to_array(frame)\n",
    "    #frame_new=np.expand_dims(frame_new,axis=0)\n",
    "    #frame_new=np.resize(frame_new,(1,120,160,3))\n",
    "    #Predicting using saved model\n",
    "    result=loaded_model_fr_class.predict(retrive_img)\n",
    "    #cv2.imshow('Faces',frame)\n",
    "    if result[0][0]==1:\n",
    "        prediction='Match Found'\n",
    "        cv2.putText(frame,'VIPUL',(x,y+h),cv2.FONT_HERSHEY_COMPLEX,1.5,(0,255,0),2)\n",
    "        cv2.imshow('f',frame)\n",
    "    else:\n",
    "        prediction='Match not found'\n",
    "        cv2.putText(frame,'NOT VIPUL',(x,y+h),cv2.FONT_HERSHEY_COMPLEX,1.5,(0,255,0),2)\n",
    "        #cv2.imshow('f',frame)\n",
    "    print('Result',prediction)  \n",
    "    k=cv2.waitKey(5)& 0xff\n",
    "    if k==27:\n",
    "        break\n",
    "cv2.destroyAllWindows()\n",
    "cap.release()"
   ]
  },
  {
   "cell_type": "code",
   "execution_count": null,
   "metadata": {},
   "outputs": [],
   "source": [
    "frame_new.shape"
   ]
  }
 ],
 "metadata": {
  "anaconda-cloud": {},
  "kernelspec": {
   "display_name": "Python [conda env:anaconda3]",
   "language": "python",
   "name": "conda-env-anaconda3-py"
  },
  "language_info": {
   "codemirror_mode": {
    "name": "ipython",
    "version": 3
   },
   "file_extension": ".py",
   "mimetype": "text/x-python",
   "name": "python",
   "nbconvert_exporter": "python",
   "pygments_lexer": "ipython3",
   "version": "3.5.2"
  }
 },
 "nbformat": 4,
 "nbformat_minor": 2
}
